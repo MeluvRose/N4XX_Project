{
 "cells": [
  {
   "cell_type": "code",
   "execution_count": null,
   "metadata": {},
   "outputs": [],
   "source": [
    "LABELINGPATH = \"data/imgLabel\""
   ]
  }
 ],
 "metadata": {
  "interpreter": {
   "hash": "a165c2701d290322a04514f991e0cdb956adcd031ce0d44be716a09c3630b513"
  },
  "kernelspec": {
   "display_name": "Python 3.8.12 64-bit ('N4XXP': conda)",
   "language": "python",
   "name": "python3"
  },
  "language_info": {
   "name": "python",
   "version": "3.8.12"
  },
  "orig_nbformat": 4
 },
 "nbformat": 4,
 "nbformat_minor": 2
}
